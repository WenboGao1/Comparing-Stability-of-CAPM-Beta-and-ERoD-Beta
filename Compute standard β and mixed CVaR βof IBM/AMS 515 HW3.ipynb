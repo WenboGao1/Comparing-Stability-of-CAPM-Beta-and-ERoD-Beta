{
 "cells": [
  {
   "cell_type": "code",
   "execution_count": 74,
   "id": "e666ce54-e40b-435c-83e2-22e5e5764ef7",
   "metadata": {},
   "outputs": [],
   "source": [
    "import numpy as np"
   ]
  },
  {
   "cell_type": "code",
   "execution_count": 75,
   "id": "46ec30be-3b54-471b-978a-e1e037345adf",
   "metadata": {},
   "outputs": [],
   "source": [
    "import yfinance as yf"
   ]
  },
  {
   "cell_type": "code",
   "execution_count": 76,
   "id": "3a10d8c8-bc3b-4c07-a018-3dc4804111c0",
   "metadata": {},
   "outputs": [],
   "source": [
    "start_date = \"2017-01-01\""
   ]
  },
  {
   "cell_type": "code",
   "execution_count": 77,
   "id": "5f0a48ff-5c28-469c-9128-a208adfdb9cf",
   "metadata": {},
   "outputs": [],
   "source": [
    "end_date = \"2023-01-01\""
   ]
  },
  {
   "cell_type": "code",
   "execution_count": 78,
   "id": "d617271f-f208-4563-ad61-c2e52cf38ba0",
   "metadata": {},
   "outputs": [
    {
     "name": "stderr",
     "output_type": "stream",
     "text": [
      "C:\\Users\\Wenbo\\Study\\AMS 515 HW3\\.venv\\Lib\\site-packages\\yfinance\\utils.py:775: FutureWarning: The 'unit' keyword in TimedeltaIndex construction is deprecated and will be removed in a future version. Use pd.to_timedelta instead.\n",
      "  df.index += _pd.TimedeltaIndex(dst_error_hours, 'h')\n",
      "[*********************100%%**********************]  1 of 1 completed\n"
     ]
    }
   ],
   "source": [
    "ibm_data = yf.download(\"IBM\", start=start_date, end=end_date)"
   ]
  },
  {
   "cell_type": "code",
   "execution_count": 79,
   "id": "232a07c6-c1ab-439a-90e9-cde6bb6a57f9",
   "metadata": {},
   "outputs": [
    {
     "name": "stderr",
     "output_type": "stream",
     "text": [
      "C:\\Users\\Wenbo\\Study\\AMS 515 HW3\\.venv\\Lib\\site-packages\\yfinance\\utils.py:775: FutureWarning: The 'unit' keyword in TimedeltaIndex construction is deprecated and will be removed in a future version. Use pd.to_timedelta instead.\n",
      "  df.index += _pd.TimedeltaIndex(dst_error_hours, 'h')\n",
      "[*********************100%%**********************]  1 of 1 completed\n"
     ]
    }
   ],
   "source": [
    "gspc_data = yf.download(\"^GSPC\", start=start_date, end=end_date)"
   ]
  },
  {
   "cell_type": "code",
   "execution_count": 80,
   "id": "c241342d-f14a-4038-b187-74b74ed9a1ba",
   "metadata": {},
   "outputs": [],
   "source": [
    "ibm_daily_returns = ibm_data['Adj Close'].pct_change().dropna()"
   ]
  },
  {
   "cell_type": "code",
   "execution_count": 81,
   "id": "cbad310c-4ef6-4b22-9e2f-89cc136d926c",
   "metadata": {},
   "outputs": [],
   "source": [
    "gspc_daily_returns = gspc_data['Adj Close'].pct_change().dropna()"
   ]
  },
  {
   "cell_type": "code",
   "execution_count": 82,
   "id": "1e737b3c-6e26-451b-a870-b7d834c94112",
   "metadata": {},
   "outputs": [
    {
     "data": {
      "text/plain": [
       "Date\n",
       "2017-01-04    0.012381\n",
       "2017-01-05   -0.003309\n",
       "2017-01-06    0.004920\n",
       "2017-01-09   -0.011089\n",
       "2017-01-10   -0.012705\n",
       "                ...   \n",
       "2022-12-23    0.005466\n",
       "2022-12-27    0.005436\n",
       "2022-12-28   -0.016851\n",
       "2022-12-29    0.007427\n",
       "2022-12-30   -0.001205\n",
       "Name: Adj Close, Length: 1509, dtype: float64"
      ]
     },
     "execution_count": 82,
     "metadata": {},
     "output_type": "execute_result"
    }
   ],
   "source": [
    "ibm_daily_returns"
   ]
  },
  {
   "cell_type": "code",
   "execution_count": 83,
   "id": "7fcf7157-04e5-4316-b5c5-af4b2fed25e6",
   "metadata": {},
   "outputs": [
    {
     "data": {
      "text/plain": [
       "Date\n",
       "2017-01-04    0.005722\n",
       "2017-01-05   -0.000771\n",
       "2017-01-06    0.003517\n",
       "2017-01-09   -0.003549\n",
       "2017-01-10    0.000000\n",
       "                ...   \n",
       "2022-12-23    0.005868\n",
       "2022-12-27   -0.004050\n",
       "2022-12-28   -0.012021\n",
       "2022-12-29    0.017461\n",
       "2022-12-30   -0.002541\n",
       "Name: Adj Close, Length: 1509, dtype: float64"
      ]
     },
     "execution_count": 83,
     "metadata": {},
     "output_type": "execute_result"
    }
   ],
   "source": [
    "gspc_daily_returns"
   ]
  },
  {
   "cell_type": "code",
   "execution_count": 84,
   "id": "3298f340-52ea-4cd7-bd46-cd34ffe53481",
   "metadata": {},
   "outputs": [],
   "source": [
    "covariance_ibm_gspc = np.cov(ibm_daily_returns, gspc_daily_returns)[0, 1]"
   ]
  },
  {
   "cell_type": "code",
   "execution_count": 85,
   "id": "0db32c75-6476-4bad-8c52-eebb53cdff48",
   "metadata": {},
   "outputs": [],
   "source": [
    "variance_gspc = np.var(gspc_daily_returns)"
   ]
  },
  {
   "cell_type": "code",
   "execution_count": 86,
   "id": "3de95c8c-ae16-4043-b562-85bda755dc1b",
   "metadata": {},
   "outputs": [],
   "source": [
    "standard_beta = covariance_ibm_gspc/variance_gspc"
   ]
  },
  {
   "cell_type": "code",
   "execution_count": 87,
   "id": "e8165c4e-8998-4333-8e9f-0b2df83105fc",
   "metadata": {
    "scrolled": true
   },
   "outputs": [
    {
     "data": {
      "text/plain": [
       "0.8424401523609256"
      ]
     },
     "execution_count": 87,
     "metadata": {},
     "output_type": "execute_result"
    }
   ],
   "source": [
    "standard_beta"
   ]
  },
  {
   "cell_type": "code",
   "execution_count": 88,
   "id": "50db6c25-dc01-452d-99ed-3fde30b58333",
   "metadata": {},
   "outputs": [],
   "source": [
    "alpha1 = 0.9"
   ]
  },
  {
   "cell_type": "code",
   "execution_count": 89,
   "id": "20fef72a-3c19-43c4-8009-76d362cc2fdd",
   "metadata": {},
   "outputs": [],
   "source": [
    "alpha2 = 0.5"
   ]
  },
  {
   "cell_type": "code",
   "execution_count": 90,
   "id": "92bf02ef-c3cd-4c85-aba9-d4ffd463a778",
   "metadata": {},
   "outputs": [],
   "source": [
    "lambda1 = 0.5"
   ]
  },
  {
   "cell_type": "code",
   "execution_count": 91,
   "id": "53f55685-624f-46f7-a51a-3fef81108e3d",
   "metadata": {},
   "outputs": [],
   "source": [
    "lambda2 = 0.5"
   ]
  },
  {
   "cell_type": "code",
   "execution_count": 92,
   "id": "e35da377-3872-410a-8a2c-d74c5e5c8597",
   "metadata": {},
   "outputs": [],
   "source": [
    "var_alpha1 = np.quantile(gspc_daily_returns, 1 - alpha1)"
   ]
  },
  {
   "cell_type": "code",
   "execution_count": 93,
   "id": "a07ea683-c7c6-4a84-8ad7-65bb7b1566f9",
   "metadata": {},
   "outputs": [],
   "source": [
    "var_alpha2 = np.quantile(gspc_daily_returns, 1 - alpha2)"
   ]
  },
  {
   "cell_type": "code",
   "execution_count": 94,
   "id": "21365efe-2020-4a5f-9e68-60a4afb061ac",
   "metadata": {},
   "outputs": [],
   "source": [
    "cvar_alpha1 = gspc_daily_returns[gspc_daily_returns <= var_alpha1].mean()"
   ]
  },
  {
   "cell_type": "code",
   "execution_count": 95,
   "id": "a2de1dbc-1624-4603-b68f-0f50ba219a33",
   "metadata": {},
   "outputs": [],
   "source": [
    "cvar_alpha2 = gspc_daily_returns[gspc_daily_returns <= var_alpha2].mean()"
   ]
  },
  {
   "cell_type": "code",
   "execution_count": 96,
   "id": "29083ef4-a149-40c6-9353-0dc537e2adca",
   "metadata": {},
   "outputs": [
    {
     "data": {
      "text/plain": [
       "-0.011834092759350417"
      ]
     },
     "execution_count": 96,
     "metadata": {},
     "output_type": "execute_result"
    }
   ],
   "source": [
    "var_alpha1"
   ]
  },
  {
   "cell_type": "code",
   "execution_count": 97,
   "id": "8fc94910-a2f2-4f62-9e73-88e1e2158025",
   "metadata": {},
   "outputs": [
    {
     "data": {
      "text/plain": [
       "0.0007115197468861023"
      ]
     },
     "execution_count": 97,
     "metadata": {},
     "output_type": "execute_result"
    }
   ],
   "source": [
    "var_alpha2"
   ]
  },
  {
   "cell_type": "code",
   "execution_count": 98,
   "id": "e70735fd-c7de-4555-81fc-c6959ad86ced",
   "metadata": {},
   "outputs": [
    {
     "data": {
      "text/plain": [
       "-0.02358271565982121"
      ]
     },
     "execution_count": 98,
     "metadata": {},
     "output_type": "execute_result"
    }
   ],
   "source": [
    "cvar_alpha1"
   ]
  },
  {
   "cell_type": "code",
   "execution_count": 99,
   "id": "b53ab929-6d5f-449a-8c38-baf8cead324d",
   "metadata": {},
   "outputs": [
    {
     "data": {
      "text/plain": [
       "-0.0075160194387423225"
      ]
     },
     "execution_count": 99,
     "metadata": {},
     "output_type": "execute_result"
    }
   ],
   "source": [
    "cvar_alpha2"
   ]
  },
  {
   "cell_type": "code",
   "execution_count": 100,
   "id": "cdceedff-5e00-47e5-8954-5ef99157be90",
   "metadata": {},
   "outputs": [],
   "source": [
    "gspc_returns = np.mean(gspc_daily_returns)"
   ]
  },
  {
   "cell_type": "code",
   "execution_count": 101,
   "id": "6c3dea16-23a9-40e0-b4f4-72dd7f41d21d",
   "metadata": {},
   "outputs": [
    {
     "data": {
      "text/plain": [
       "0.0004328757948865766"
      ]
     },
     "execution_count": 101,
     "metadata": {},
     "output_type": "execute_result"
    }
   ],
   "source": [
    "gspc_returns"
   ]
  },
  {
   "cell_type": "code",
   "execution_count": 102,
   "id": "cf4412c8-6b1b-4d61-9547-ea8ef7e1c6a4",
   "metadata": {},
   "outputs": [],
   "source": [
    "ibm_returns = np.mean(ibm_daily_returns)"
   ]
  },
  {
   "cell_type": "code",
   "execution_count": 103,
   "id": "33cba819-7aaa-4ba3-8ef8-fe5f592f2ecc",
   "metadata": {},
   "outputs": [
    {
     "data": {
      "text/plain": [
       "0.00023471047809481846"
      ]
     },
     "execution_count": 103,
     "metadata": {},
     "output_type": "execute_result"
    }
   ],
   "source": [
    "ibm_returns"
   ]
  },
  {
   "cell_type": "code",
   "execution_count": 104,
   "id": "ab92a82a-3403-4bde-a980-5df3dc8eaa39",
   "metadata": {},
   "outputs": [],
   "source": [
    "cvar_alpha1_Div = gspc_returns - cvar_alpha1"
   ]
  },
  {
   "cell_type": "code",
   "execution_count": 105,
   "id": "5378bb03-97fa-4802-b65d-a0079fd19283",
   "metadata": {},
   "outputs": [
    {
     "data": {
      "text/plain": [
       "0.024015591454707785"
      ]
     },
     "execution_count": 105,
     "metadata": {},
     "output_type": "execute_result"
    }
   ],
   "source": [
    "cvar_alpha1_Div"
   ]
  },
  {
   "cell_type": "code",
   "execution_count": 106,
   "id": "1a6c6e74-61a7-462b-a894-aed73aa415f0",
   "metadata": {},
   "outputs": [],
   "source": [
    "ibm_returns_filtered1 = ibm_returns - ibm_daily_returns[gspc_daily_returns <= var_alpha1]"
   ]
  },
  {
   "cell_type": "code",
   "execution_count": 107,
   "id": "878f2b61-37b4-4755-b9b6-3e01dbc2fcde",
   "metadata": {},
   "outputs": [],
   "source": [
    "ibm_returns_filtered2 = ibm_returns - ibm_daily_returns[gspc_daily_returns <= var_alpha2]"
   ]
  },
  {
   "cell_type": "code",
   "execution_count": 108,
   "id": "dea42005-136a-42a6-bdeb-0c57957b5479",
   "metadata": {},
   "outputs": [],
   "source": [
    "expected_return1 = ibm_returns_filtered1.mean()"
   ]
  },
  {
   "cell_type": "code",
   "execution_count": 109,
   "id": "00b4cbde-b263-4eb3-a6dd-2d9b96ad0f63",
   "metadata": {},
   "outputs": [],
   "source": [
    "expected_return2 = ibm_returns_filtered2.mean()"
   ]
  },
  {
   "cell_type": "code",
   "execution_count": 110,
   "id": "b838e708-2a2f-4ffb-86be-7cdd5cda2353",
   "metadata": {},
   "outputs": [
    {
     "data": {
      "text/plain": [
       "Date\n",
       "2017-03-21    0.010594\n",
       "2017-05-17    0.018129\n",
       "2017-08-10   -0.000259\n",
       "2017-08-17    0.012866\n",
       "2018-02-02    0.020986\n",
       "                ...   \n",
       "2022-12-05    0.008710\n",
       "2022-12-06   -0.000376\n",
       "2022-12-15    0.050281\n",
       "2022-12-22    0.009099\n",
       "2022-12-28    0.017086\n",
       "Name: Adj Close, Length: 151, dtype: float64"
      ]
     },
     "execution_count": 110,
     "metadata": {},
     "output_type": "execute_result"
    }
   ],
   "source": [
    "ibm_returns_filtered1"
   ]
  },
  {
   "cell_type": "code",
   "execution_count": 111,
   "id": "03fea5d8-c765-4f02-9996-d4bbcf8e2b8d",
   "metadata": {},
   "outputs": [
    {
     "data": {
      "text/plain": [
       "Date\n",
       "2017-01-05    0.003544\n",
       "2017-01-09    0.011324\n",
       "2017-01-10    0.012940\n",
       "2017-01-12   -0.000958\n",
       "2017-01-17   -0.003052\n",
       "                ...   \n",
       "2022-12-19    0.009439\n",
       "2022-12-22    0.009099\n",
       "2022-12-27   -0.005201\n",
       "2022-12-28    0.017086\n",
       "2022-12-30    0.001440\n",
       "Name: Adj Close, Length: 755, dtype: float64"
      ]
     },
     "execution_count": 111,
     "metadata": {},
     "output_type": "execute_result"
    }
   ],
   "source": [
    "ibm_returns_filtered2"
   ]
  },
  {
   "cell_type": "code",
   "execution_count": 112,
   "id": "f5775d65-a6f5-475c-a459-0449afb26707",
   "metadata": {},
   "outputs": [
    {
     "data": {
      "text/plain": [
       "0.018467998442988517"
      ]
     },
     "execution_count": 112,
     "metadata": {},
     "output_type": "execute_result"
    }
   ],
   "source": [
    "expected_return1"
   ]
  },
  {
   "cell_type": "code",
   "execution_count": 113,
   "id": "a70154fb-2197-4401-a754-2dc2e33f0c6a",
   "metadata": {},
   "outputs": [
    {
     "data": {
      "text/plain": [
       "0.006073474216995344"
      ]
     },
     "execution_count": 113,
     "metadata": {},
     "output_type": "execute_result"
    }
   ],
   "source": [
    "expected_return2"
   ]
  },
  {
   "cell_type": "code",
   "execution_count": 114,
   "id": "f935f2bf-61c0-49e2-b2a2-4fd735a556ed",
   "metadata": {},
   "outputs": [],
   "source": [
    "mixed_cvar_beta = (lambda1 * expected_return1 + lambda2 * expected_return2) / (lambda1 * cvar_alpha1_Div + lambda2 * cvar_alpha1_Div)"
   ]
  },
  {
   "cell_type": "code",
   "execution_count": 115,
   "id": "da10bb40-f64d-4cc3-af98-6cbfadee957a",
   "metadata": {},
   "outputs": [
    {
     "data": {
      "text/plain": [
       "(0.8424401523609256, 0.5109487456569175)"
      ]
     },
     "execution_count": 115,
     "metadata": {},
     "output_type": "execute_result"
    }
   ],
   "source": [
    "standard_beta, mixed_cvar_beta"
   ]
  },
  {
   "cell_type": "code",
   "execution_count": null,
   "id": "0e7beca1-5858-4955-ab0c-e8e00664dfc8",
   "metadata": {},
   "outputs": [],
   "source": []
  }
 ],
 "metadata": {
  "kernelspec": {
   "display_name": "Python 3 (ipykernel)",
   "language": "python",
   "name": "python3"
  },
  "language_info": {
   "codemirror_mode": {
    "name": "ipython",
    "version": 3
   },
   "file_extension": ".py",
   "mimetype": "text/x-python",
   "name": "python",
   "nbconvert_exporter": "python",
   "pygments_lexer": "ipython3",
   "version": "3.11.1"
  }
 },
 "nbformat": 4,
 "nbformat_minor": 5
}
